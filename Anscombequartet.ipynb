{
 "cells": [
  {
   "cell_type": "markdown",
   "metadata": {
    "collapsed": true
   },
   "source": [
    "# Anscombe's Quartet"
   ]
  },
  {
   "cell_type": "markdown",
   "metadata": {},
   "source": [
    "Anscombe's quartet is a set of four simple 2-Dimensional data sets with similar statistical properties. Each data set consists of eleven points.\n",
    "Their basic descriptive statistics are the same but their plots are different.\n",
    "It was produced by the American statistician F.J. Anscombe in 1973, and published as 'Graphs in Statistical Analysis' in 'The American Statistician', Vol 27(1),17-21.\n"
   ]
  },
  {
   "cell_type": "markdown",
   "metadata": {},
   "source": [
    "## The Data"
   ]
  },
  {
   "cell_type": "code",
   "execution_count": null,
   "metadata": {
    "collapsed": true
   },
   "outputs": [],
   "source": []
  },
  {
   "cell_type": "markdown",
   "metadata": {},
   "source": [
    "## The Descriptive Statistics"
   ]
  },
  {
   "cell_type": "code",
   "execution_count": null,
   "metadata": {
    "collapsed": true
   },
   "outputs": [],
   "source": []
  },
  {
   "cell_type": "markdown",
   "metadata": {},
   "source": [
    "## The Plots"
   ]
  },
  {
   "cell_type": "code",
   "execution_count": null,
   "metadata": {
    "collapsed": true
   },
   "outputs": [],
   "source": []
  },
  {
   "cell_type": "markdown",
   "metadata": {},
   "source": [
    " - 1st scatterplot follows a simple linear relationship corresponding to two variables correlated, there is an assumption of normality.\n",
    " - 2nd graph is not distributed normally. There is an obvious relationship between the variables, but it is not linear. Maybe quadratic.\n",
    " - 3rd graph distribution is tight linear. The regression line should be different.\n",
    " - 4th plot shows a graph where an outlier is enough to produce a high correlation coefficient, even though the other points do not indicate a relationship between the variables."
   ]
  },
  {
   "cell_type": "markdown",
   "metadata": {},
   "source": [
    "## Why it is interesting\n",
    "These datasets are an example of how useful it is to plot data before relying on summary statistics.\n",
    "A visual can better decide the nature of relations and behaviour of variables.\n",
    "These graphs tell us that first and second order summary statistics don't tell you everything about data.\n",
    "You have to plot it as well to get more visual intuition."
   ]
  },
  {
   "cell_type": "code",
   "execution_count": null,
   "metadata": {
    "collapsed": true
   },
   "outputs": [],
   "source": []
  }
 ],
 "metadata": {
  "kernelspec": {
   "display_name": "Python 3",
   "language": "python",
   "name": "python3"
  },
  "language_info": {
   "codemirror_mode": {
    "name": "ipython",
    "version": 3
   },
   "file_extension": ".py",
   "mimetype": "text/x-python",
   "name": "python",
   "nbconvert_exporter": "python",
   "pygments_lexer": "ipython3",
   "version": "3.6.3"
  }
 },
 "nbformat": 4,
 "nbformat_minor": 2
}
